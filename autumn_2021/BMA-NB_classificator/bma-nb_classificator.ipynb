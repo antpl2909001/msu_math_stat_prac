{
 "cells": [
  {
   "cell_type": "code",
   "execution_count": 1,
   "id": "b4f98817",
   "metadata": {},
   "outputs": [],
   "source": [
    "import numpy as np\n",
    "import sklearn as sk\n",
    "import matplotlib.pyplot as plt\n",
    "\n",
    "%matplotlib inline"
   ]
  },
  {
   "cell_type": "code",
   "execution_count": 2,
   "id": "5ce92eb1",
   "metadata": {},
   "outputs": [],
   "source": [
    "from sklearn.model_selection import cross_val_score\n",
    "from sklearn.metrics import accuracy_score\n",
    "from sklearn.naive_bayes import GaussianNB\n",
    "from sklearn.svm import SVC\n",
    "from sklearn.datasets import make_blobs, make_classification"
   ]
  },
  {
   "cell_type": "code",
   "execution_count": 3,
   "id": "020fe009",
   "metadata": {},
   "outputs": [],
   "source": [
    "def gaussian_kernel(x, mu=0, sigma=1):\n",
    "    return 1 / (((2 * np.pi) ** 0.5) * sigma) * np.exp(-(x - mu) ** 2 / (2 * sigma.astype(np.float64) ** 2))\n",
    "\n",
    "class BMANBClassifier:\n",
    "    \"\"\"\n",
    "    BMA-NB классификатор. Предполагается, что распределение всех признаков нормальное\n",
    "    \"\"\"\n",
    "    def __init__(self, beta=1, coef=2):\n",
    "        self.beta = beta\n",
    "        \n",
    "        # константа нормализации\n",
    "        self.coef = coef\n",
    "        \n",
    "        # количество классов\n",
    "        self.m = None\n",
    "        \n",
    "        # массив меток классов размерности (m, ) (m - число классов)\n",
    "        self.labels = None\n",
    "        \n",
    "        # массив априорных вероятностей классов размерности (m, )\n",
    "        self.cls_probs = None\n",
    "        \n",
    "        # размерность признакового пространства\n",
    "        self.k = None\n",
    "    \n",
    "        # массив средних размерности (m, k) (k - число признаков)\n",
    "        self.mus = None\n",
    "        \n",
    "        # массив стандартных отклонений размерности (m, k)\n",
    "        self.sigmas = None\n",
    "        \n",
    "        # массив величин A_k размерности (1, k)\n",
    "        self.a = None\n",
    "        \n",
    "        # массив величин B_k размерности (1, k)\n",
    "        self.b = None\n",
    "    \n",
    "    def fit(self, X, y, coef=None):\n",
    "        \"\"\"\n",
    "        X - признаковое описание объектов: np.array размерности (n, k) \n",
    "        (n - количество объектов,  k - размерность признакового пространства)\n",
    "        y - метки классов: np.array размерности (n, ) \n",
    "        \n",
    "        Вычисляем self.cls_probs, self.mus, self.sigmas, self.a, self.b\n",
    "        returns: self\n",
    "        \"\"\"\n",
    "        if coef != None:\n",
    "            self.coef = coef\n",
    "        # размер обучающей выборки\n",
    "        n = y.shape[0]\n",
    "        \n",
    "        # размерность признакового пространства\n",
    "        self.k = X.shape[1]\n",
    "        \n",
    "        # массив меток классов\n",
    "        self.labels = np.unique(y)\n",
    "        \n",
    "        # количество классов\n",
    "        self.m = self.labels.shape[0]\n",
    "        \n",
    "        # вычисление априорных вероятностей классов, параметров распределения для каждого класса и каждого признака\n",
    "        self.cls_probs = np.zeros(self.m)\n",
    "        self.mus = np.zeros((self.m, self.k))\n",
    "        self.sigmas = np.zeros((self.m, self.k))\n",
    "        for i, label in enumerate(self.labels):\n",
    "            self.cls_probs[i] = (y == label).sum() / n\n",
    "            \n",
    "            # признаковое описание объектов с меткой label\n",
    "            X_cls = X[y == label]\n",
    "            \n",
    "            # вычисление мат.ожиданий и стандартных отклонений сразу по всем признакам\n",
    "            self.mus[i] = X_cls.mean(axis=0)\n",
    "            self.sigmas[i] = (((X_cls - self.mus[i]) ** 2).sum(axis=0) / X_cls.shape[0]) ** 0.5  \n",
    "        \n",
    "        # занумеруем классы для удобства дальнйших вычислений\n",
    "        y_nums = np.zeros(n).astype(int)\n",
    "        for i, label in enumerate(self.labels):\n",
    "            y_nums[np.where(y == label)] = i\n",
    "            \n",
    "        # вычисление коэффициентов A_k и B_k\n",
    "        self.a = np.zeros(self.k).astype(np.float64)\n",
    "        self.b = np.zeros(self.k).astype(np.float64)\n",
    "        # рассматриваем j-й признак\n",
    "        for j in range(self.k):\n",
    "            arr = np.tile(X[:, j].reshape((-1,)), (self.m, 1))\n",
    "            # вычисляем P(x_{ij} | y_j) для всех y_q, q = 1,...,m\n",
    "            for q, label in enumerate(self.labels):\n",
    "                arr[q] = gaussian_kernel(arr[q], self.mus[q, j], self.sigmas[q, j])\n",
    "            \n",
    "            vec_a = (self.coef * np.transpose(arr) * self.cls_probs).sum(axis=1)\n",
    "            vec_b = (self.coef * gaussian_kernel(X[:, j], self.mus[:, j][y_nums], self.sigmas[:, j][y_nums]))\n",
    "            \n",
    "            norm_coef = 10 ** np.median(np.log10(np.hstack([vec_a, vec_b]).flatten()))\n",
    "            vec_a /= norm_coef\n",
    "            vec_b /= norm_coef\n",
    "            self.a[j] = vec_a.prod()\n",
    "            self.b[j] = vec_b.prod()\n",
    "            \n",
    "        return self\n",
    "        \n",
    "    \n",
    "    def predict(self, X=None):\n",
    "        \"\"\"\n",
    "        X - признаковое описание объектов: np.array размерности (n, k) \n",
    "        returns: np.array размерности (n,) - метки классов для соответствующих объектов из X\n",
    "        \"\"\"\n",
    "        n = X.shape[0]\n",
    "        \n",
    "        # Вычисление P(x_{id} | y_j) и P(x_{id}) для всех i = 1, ..., n, d = 1, ..., k, j = 1, ..., m\n",
    "        prob_arr = np.zeros((n, self.m + 1, self.k))\n",
    "        \n",
    "        for i in range(n):\n",
    "            for j in range(self.m):\n",
    "                prob_arr[i][j] = gaussian_kernel(X[i], self.mus[j], self.sigmas[j])\n",
    "            prob_arr[i][self.m] = (prob_arr[i][:-1] * self.cls_probs[:, None]).sum()\n",
    "        \n",
    "        # строим прогноз...\n",
    "        result = np.zeros(n)\n",
    "        for i in range(n):\n",
    "            l = np.log10(self.a * np.tile(prob_arr[i][self.m], (self.m, 1)) + self.b / self.beta * prob_arr[i][:-1])\n",
    "            result[i] = self.labels[np.argmax(l.sum(axis=1) + np.log10(self.cls_probs))]\n",
    "            \n",
    "        \n",
    "        return result"
   ]
  },
  {
   "cell_type": "code",
   "execution_count": 4,
   "id": "d7c1a02b",
   "metadata": {},
   "outputs": [],
   "source": [
    "def kfold_split(num_objects, num_folds):\n",
    "    indexes = np.arange(num_objects)\n",
    "    delims = np.arange(0, num_objects // num_folds * num_folds, num_objects // num_folds)[1:]\n",
    "    folds = np.split(indexes, delims)\n",
    "    \n",
    "    l = []\n",
    "    for i in range(num_folds):\n",
    "        l.append((np.delete(indexes, folds[i]), folds[i]))\n",
    "\n",
    "    return l\n",
    "\n",
    "def cross_val(model, X, y, cv=5, score_function=accuracy_score, seed=0):\n",
    "    folds = kfold_split(X.shape[0], cv)\n",
    "    np.random.seed(seed)\n",
    "    indexes = np.random.permutation(X.shape[0])\n",
    "    X, y = X[indexes], y[indexes]\n",
    "    accuracy_list = []\n",
    "    for train_fold, test_fold in folds:\n",
    "        model.fit(X[train_fold], y[train_fold])\n",
    "        y_pred = model.predict(X[test_fold])\n",
    "        accuracy_list.append(score_function(y[test_fold], y_pred))\n",
    "        \n",
    "    return np.array(accuracy_list)"
   ]
  },
  {
   "cell_type": "markdown",
   "id": "4417ca35",
   "metadata": {},
   "source": [
    "### Test 0"
   ]
  },
  {
   "cell_type": "code",
   "execution_count": 5,
   "id": "fc966155",
   "metadata": {},
   "outputs": [
    {
     "name": "stdout",
     "output_type": "stream",
     "text": [
      "GaussianNB. Тосность по кросс-валидации на 5 фолдах: 0.9533333333333334\n",
      "BMA-NB. Тосность по кросс-валидации на 5 фолдах: 0.9533333333333334\n",
      "SVC. Тосность по кросс-валидации на 5 фолдах: 0.9666666666666666\n"
     ]
    }
   ],
   "source": [
    "from sklearn.datasets import load_iris\n",
    "\n",
    "data = load_iris()\n",
    "X = data[\"data\"]\n",
    "y = data[\"target\"]\n",
    "\n",
    "print(\"GaussianNB. Тосность по кросс-валидации на 5 фолдах:\", cross_val_score(GaussianNB(), X, y, cv=5).mean())\n",
    "print(\"BMA-NB. Тосность по кросс-валидации на 5 фолдах:\", cross_val(BMANBClassifier(coef=1, beta=1), X, y, cv=5).mean())\n",
    "print(\"SVC. Тосность по кросс-валидации на 5 фолдах:\", cross_val_score(SVC(), X, y, cv=5).mean())"
   ]
  },
  {
   "cell_type": "markdown",
   "id": "965b73ab",
   "metadata": {},
   "source": [
    "### Test 1"
   ]
  },
  {
   "cell_type": "code",
   "execution_count": 6,
   "id": "47b04001",
   "metadata": {},
   "outputs": [
    {
     "name": "stdout",
     "output_type": "stream",
     "text": [
      "0\n",
      "1\n",
      "2\n",
      "3\n",
      "4\n"
     ]
    }
   ],
   "source": [
    "bmanb_list = []\n",
    "nb_list = []\n",
    "svc_list = []\n",
    "\n",
    "for state in range(5):\n",
    "    \n",
    "    X, y = make_classification(n_samples=1500, n_features=5, \n",
    "                               n_informative=5, n_redundant=0, n_repeated=0,\n",
    "                               n_clusters_per_class=1, n_classes=2,\n",
    "                               random_state=state)\n",
    "\n",
    "    bmanb_list.append(cross_val(BMANBClassifier(), X, y, cv=5, seed=2).mean())\n",
    "    nb_list.append(cross_val_score(GaussianNB(), X, y, scoring=\"accuracy\", cv=5).mean())\n",
    "    svc_list.append(cross_val_score(SVC(), X, y, scoring=\"accuracy\", cv=5).mean())\n",
    "#     print(state)\n"
   ]
  },
  {
   "cell_type": "code",
   "execution_count": 7,
   "id": "d2256116",
   "metadata": {},
   "outputs": [
    {
     "data": {
      "image/png": "[encoded data removed]",
      "text/plain": [
       "<Figure size 648x360 with 1 Axes>"
      ]
     },
     "metadata": {
      "needs_background": "light"
     },
     "output_type": "display_data"
    }
   ],
   "source": [
    "# задаем размеры\n",
    "plt.figure(figsize=(9,5))\n",
    "\n",
    "# заголовок \n",
    "plt.title('Точность BMA-NB и NB по кросс-валидации на 5 фолдах')\n",
    "\n",
    "# ширина столбцов\n",
    "width = 0.35\n",
    "\n",
    "# координаты столбцов\n",
    "ids = np.arange(1, 6)\n",
    "\n",
    "# рисуем графики\n",
    "plt.bar(ids - width / 3, bmanb_list, width / 3.5, label=\"BMA-NB\")\n",
    "plt.bar(ids, nb_list, width / 3.5, label=\"GaussianNB\")\n",
    "plt.bar(ids + width / 3, svc_list, width / 3.5, label='SVC')\n",
    "\n",
    "# подписи осей\n",
    "plt.xlabel('random_state')\n",
    "plt.ylabel('cross-validation score')\n",
    "\n",
    "plt.legend()\n",
    "\n",
    "# сетка графика\n",
    "plt.grid(True) \n",
    "\n",
    "plt.show()"
   ]
  },
  {
   "cell_type": "markdown",
   "id": "f320e31b",
   "metadata": {},
   "source": [
    "### Test 2"
   ]
  },
  {
   "cell_type": "code",
   "execution_count": 8,
   "id": "6871e52f",
   "metadata": {},
   "outputs": [
    {
     "name": "stdout",
     "output_type": "stream",
     "text": [
      "0\n",
      "1\n",
      "2\n",
      "3\n",
      "4\n"
     ]
    }
   ],
   "source": [
    "bmanb_list = []\n",
    "nb_list = []\n",
    "svc_list = []\n",
    "\n",
    "for state in range(5):\n",
    "    \n",
    "    X, y = make_classification(n_samples=3000, n_features=20, \n",
    "                               n_informative=5, n_redundant=5, n_repeated=5,\n",
    "                               n_clusters_per_class=1, n_classes=3,\n",
    "                               random_state=state)\n",
    "\n",
    "    bmanb_list.append(cross_val(BMANBClassifier(), X, y, cv=5, seed=2).mean())\n",
    "    nb_list.append(cross_val_score(GaussianNB(), X, y, scoring=\"accuracy\", cv=5).mean())\n",
    "    svc_list.append(cross_val_score(SVC(), X, y, scoring=\"accuracy\", cv=5).mean())\n",
    "    print(state)\n"
   ]
  },
  {
   "cell_type": "code",
   "execution_count": 9,
   "id": "aeda1536",
   "metadata": {},
   "outputs": [
    {
     "data": {
      "image/png": "[encoded data removed]",
      "text/plain": [
       "<Figure size 648x360 with 1 Axes>"
      ]
     },
     "metadata": {
      "needs_background": "light"
     },
     "output_type": "display_data"
    }
   ],
   "source": [
    "# задаем размеры\n",
    "plt.figure(figsize=(9,5))\n",
    "\n",
    "# заголовок \n",
    "plt.title('Точность BMA-NB и NB по кросс-валидации на 5 фолдах')\n",
    "\n",
    "# ширина столбцов\n",
    "width = 0.35\n",
    "\n",
    "# координаты столбцов\n",
    "ids = np.arange(1, 6)\n",
    "\n",
    "# рисуем графики\n",
    "plt.bar(ids - width / 3, bmanb_list, width / 3.5, label=\"BMA-NB\")\n",
    "plt.bar(ids, nb_list, width / 3.5, label=\"GaussianNB\")\n",
    "plt.bar(ids + width / 3, svc_list, width / 3.5, label='SVC')\n",
    "\n",
    "# подписи осей\n",
    "plt.xlabel('random_state')\n",
    "plt.ylabel('cross-validation score')\n",
    "\n",
    "plt.legend()\n",
    "\n",
    "# сетка графика\n",
    "plt.grid(True) \n",
    "\n",
    "plt.show()"
   ]
  },
  {
   "cell_type": "markdown",
   "id": "440150c4",
   "metadata": {},
   "source": [
    "### Test 3"
   ]
  },
  {
   "cell_type": "code",
   "execution_count": 10,
   "id": "0b3af227",
   "metadata": {},
   "outputs": [
    {
     "name": "stdout",
     "output_type": "stream",
     "text": [
      "0\n",
      "1\n",
      "2\n",
      "3\n",
      "4\n"
     ]
    }
   ],
   "source": [
    "bmanb_list = []\n",
    "nb_list = []\n",
    "svc_list = []\n",
    "\n",
    "for state in range(5):\n",
    "    \n",
    "    X, y = make_classification(n_samples=1500, n_features=500, \n",
    "                               n_informative=30, n_redundant=3,\n",
    "                               n_clusters_per_class=1, n_classes=2,\n",
    "                               random_state=state)\n",
    "\n",
    "    bmanb_list.append(cross_val(BMANBClassifier(), X, y, cv=5, seed=2).mean())\n",
    "    nb_list.append(cross_val_score(GaussianNB(), X, y, scoring=\"accuracy\", cv=5).mean())\n",
    "    svc_list.append(cross_val_score(SVC(), X, y, scoring=\"accuracy\", cv=5).mean())\n",
    "    print(state)\n"
   ]
  },
  {
   "cell_type": "code",
   "execution_count": 11,
   "id": "ef6c0a99",
   "metadata": {},
   "outputs": [
    {
     "data": {
      "image/png": "[encoded data removed]",
      "text/plain": [
       "<Figure size 648x360 with 1 Axes>"
      ]
     },
     "metadata": {
      "needs_background": "light"
     },
     "output_type": "display_data"
    }
   ],
   "source": [
    "# задаем размеры\n",
    "plt.figure(figsize=(9,5))\n",
    "\n",
    "# заголовок \n",
    "plt.title('Точность BMA-NB и NB по кросс-валидации на 5 фолдах')\n",
    "\n",
    "# ширина столбцов\n",
    "width = 0.35\n",
    "\n",
    "# координаты столбцов\n",
    "ids = np.arange(1, 6)\n",
    "\n",
    "# рисуем графики\n",
    "plt.bar(ids - width / 3, bmanb_list, width / 3.5, label=\"BMA-NB\")\n",
    "plt.bar(ids, nb_list, width / 3.5, label=\"GaussianNB\")\n",
    "plt.bar(ids + width / 3, svc_list, width / 3.5, label='SVC')\n",
    "\n",
    "# подписи осей\n",
    "plt.xlabel('random_state')\n",
    "plt.ylabel('cross-validation score')\n",
    "\n",
    "plt.legend()\n",
    "\n",
    "# сетка графика\n",
    "plt.grid(True) \n",
    "\n",
    "plt.show()"
   ]
  },
  {
   "cell_type": "markdown",
   "id": "21eb616f",
   "metadata": {},
   "source": [
    "### Test 4"
   ]
  },
  {
   "cell_type": "code",
   "execution_count": 12,
   "id": "c50b89d3",
   "metadata": {},
   "outputs": [
    {
     "name": "stdout",
     "output_type": "stream",
     "text": [
      "0\n",
      "1\n",
      "2\n",
      "3\n",
      "4\n"
     ]
    }
   ],
   "source": [
    "bmanb_list = []\n",
    "nb_list = []\n",
    "svc_list = []\n",
    "\n",
    "for state in range(5):\n",
    "    X, y = make_classification(n_samples=2000, n_features=500, \n",
    "                               n_informative=30, n_redundant=3,\n",
    "                               n_clusters_per_class=1, n_classes=3,\n",
    "                               random_state=state)\n",
    "\n",
    "    bmanb_list.append(cross_val(BMANBClassifier(), X, y, cv=5, seed=2).mean())\n",
    "    nb_list.append(cross_val_score(GaussianNB(), X, y, scoring=\"accuracy\", cv=5).mean())\n",
    "    svc_list.append(cross_val_score(SVC(), X, y, scoring=\"accuracy\", cv=5).mean())\n",
    "    print(state)\n"
   ]
  },
  {
   "cell_type": "code",
   "execution_count": 13,
   "id": "66d5cf79",
   "metadata": {},
   "outputs": [
    {
     "data": {
      "image/png": "[encoded data removed]",
      "text/plain": [
       "<Figure size 648x360 with 1 Axes>"
      ]
     },
     "metadata": {
      "needs_background": "light"
     },
     "output_type": "display_data"
    }
   ],
   "source": [
    "# задаем размеры\n",
    "plt.figure(figsize=(9,5))\n",
    "\n",
    "# заголовок \n",
    "plt.title('Точность BMA-NB и NB по кросс-валидации на 5 фолдах')\n",
    "\n",
    "# ширина столбцов\n",
    "width = 0.35\n",
    "\n",
    "# координаты столбцов\n",
    "ids = np.arange(1, 6)\n",
    "\n",
    "# рисуем графики\n",
    "plt.bar(ids - width / 3, bmanb_list, width / 3.5, label=\"BMA-NB\")\n",
    "plt.bar(ids, nb_list, width / 3.5, label=\"GaussianNB\")\n",
    "plt.bar(ids + width / 3, svc_list, width / 3.5, label='SVC')\n",
    "\n",
    "# подписи осей\n",
    "plt.xlabel('random_state')\n",
    "plt.ylabel('cross-validation score')\n",
    "\n",
    "plt.legend()\n",
    "\n",
    "# сетка графика\n",
    "plt.grid(True) \n",
    "\n",
    "plt.show()"
   ]
  },
  {
   "cell_type": "markdown",
   "id": "063f893f",
   "metadata": {},
   "source": [
    "### Test 5"
   ]
  },
  {
   "cell_type": "code",
   "execution_count": 14,
   "id": "dccbf990",
   "metadata": {},
   "outputs": [
    {
     "name": "stdout",
     "output_type": "stream",
     "text": [
      "0\n",
      "1\n",
      "2\n",
      "3\n",
      "4\n"
     ]
    }
   ],
   "source": [
    "bmanb_list = []\n",
    "nb_list = []\n",
    "svc_list = []\n",
    "\n",
    "for state in range(5):\n",
    "    \n",
    "    X, y = make_classification(n_samples=2000, n_features=500, \n",
    "                               n_informative=30, n_redundant=3,\n",
    "                               n_clusters_per_class=1, n_classes=5,\n",
    "                               random_state=state)\n",
    "\n",
    "    bmanb_list.append(cross_val(BMANBClassifier(), X, y, cv=5, seed=2).mean())\n",
    "    nb_list.append(cross_val_score(GaussianNB(), X, y, scoring=\"accuracy\", cv=5).mean())\n",
    "    svc_list.append(cross_val_score(SVC(), X, y, scoring=\"accuracy\", cv=5).mean())\n",
    "    print(state)\n"
   ]
  },
  {
   "cell_type": "code",
   "execution_count": 15,
   "id": "38321bb4",
   "metadata": {},
   "outputs": [
    {
     "data": {
      "image/png": "[encoded data removed]",
      "text/plain": [
       "<Figure size 648x360 with 1 Axes>"
      ]
     },
     "metadata": {
      "needs_background": "light"
     },
     "output_type": "display_data"
    }
   ],
   "source": [
    "# задаем размеры\n",
    "plt.figure(figsize=(9,5))\n",
    "\n",
    "# заголовок \n",
    "plt.title('Точность BMA-NB и NB по кросс-валидации на 5 фолдах')\n",
    "\n",
    "# ширина столбцов\n",
    "width = 0.35\n",
    "\n",
    "# координаты столбцов\n",
    "ids = np.arange(1, 6)\n",
    "\n",
    "# рисуем графики\n",
    "plt.bar(ids - width / 3, bmanb_list, width / 3.5, label=\"BMA-NB\")\n",
    "plt.bar(ids, nb_list, width / 3.5, label=\"GaussianNB\")\n",
    "plt.bar(ids + width / 3, svc_list, width / 3.5, label='SVC')\n",
    "\n",
    "# подписи осей\n",
    "plt.xlabel('random_state')\n",
    "plt.ylabel('cross-validation score')\n",
    "\n",
    "plt.legend()\n",
    "\n",
    "# сетка графика\n",
    "plt.grid(True) \n",
    "\n",
    "plt.show()"
   ]
  },
  {
   "cell_type": "code",
   "execution_count": null,
   "id": "4f6feaeb",
   "metadata": {},
   "outputs": [],
   "source": []
  }
 ],
 "metadata": {
  "kernelspec": {
   "display_name": "Python 3 (ipykernel)",
   "language": "python",
   "name": "python3"
  },
  "language_info": {
   "codemirror_mode": {
    "name": "ipython",
    "version": 3
   },
   "file_extension": ".py",
   "mimetype": "text/x-python",
   "name": "python",
   "nbconvert_exporter": "python",
   "pygments_lexer": "ipython3",
   "version": "3.8.11"
  }
 },
 "nbformat": 4,
 "nbformat_minor": 5
}
